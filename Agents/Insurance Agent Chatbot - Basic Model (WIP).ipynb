{
 "cells": [
  {
   "cell_type": "markdown",
   "id": "72b07a56-78a3-45a5-97ea-6d73736e2c00",
   "metadata": {},
   "source": [
    "## Basic Model"
   ]
  },
  {
   "cell_type": "markdown",
   "id": "ed2c3da3",
   "metadata": {},
   "source": [
    "### Initialization"
   ]
  },
  {
   "cell_type": "code",
   "execution_count": 1,
   "id": "6e278166",
   "metadata": {},
   "outputs": [],
   "source": [
    "import requests\n",
    "import pandas as pd\n",
    "from tqdm import tqdm\n",
    "from bs4 import BeautifulSoup as BS\n",
    "import os\n",
    "import pickle\n",
    "\n",
    "path = r\"C:\\Users\\yongz\\Personal Projects\\Side Proj\\Side_Proj_Data\"\n",
    "os.chdir(path)"
   ]
  },
  {
   "cell_type": "markdown",
   "id": "d2df2538",
   "metadata": {},
   "source": [
    "### Data Collection\n",
    "Scrape site"
   ]
  },
  {
   "cell_type": "code",
   "execution_count": 26,
   "id": "05592e58",
   "metadata": {},
   "outputs": [],
   "source": [
    "# Steps\n",
    "def generate_steps(raw):\n",
    "    divs = raw.find_all('div')\n",
    "    steps = []\n",
    "    for i in range(len(divs)):\n",
    "        if i < len(divs)-2:\n",
    "            if (\n",
    "                divs[i].has_attr('class')\n",
    "                and divs[i+1].has_attr('class')\n",
    "                and divs[i+2].has_attr('class')\n",
    "                and divs[i].find('h3') is not None\n",
    "            ):\n",
    "                if (\n",
    "                    divs[i]['class'][0] == \"cmp-title\"\n",
    "                    and divs[i+1]['class'][0] == \"text\"\n",
    "                    and 'Step' in divs[i].find('h3').text\n",
    "                ):\n",
    "                    steps.append([divs[i],divs[i+1]])\n",
    "                elif (\n",
    "                    len(divs[i].find_all('h4',class_='cmp-title__text')) > 0\n",
    "                    and 'cmp-text' in divs[i+2]['class'][0]\n",
    "                ):\n",
    "                    steps.append([divs[i].find('h4'),divs[i+2]])\n",
    "                elif (\n",
    "                    'cmp-text' in divs[i]['class'][0]\n",
    "                ):\n",
    "                    title = divs[i].find('p')\n",
    "                    content = [x for x in divs[i].find_all(['p','ol','h3','h4','ul']) if x!=title]\n",
    "                    steps.append([title,content])\n",
    "            elif (\n",
    "                divs[i].has_attr('class')\n",
    "                and divs[i+1].has_attr('class')\n",
    "                and divs[i].find('h3') is not None\n",
    "            ): \n",
    "                if (\n",
    "                    divs[i]['class'][0] == \"cmp-title\"\n",
    "                    and divs[i+1]['class'][0] == \"text\"\n",
    "                    and 'Step' in divs[i].find('h3').text\n",
    "                ):\n",
    "                    steps.append([divs[i],divs[i+1]])\n",
    "                elif (\n",
    "                    'cmp-text' in divs[i]['class'][0]\n",
    "                    and divs[i].find('p') is not None\n",
    "                ):\n",
    "                    title = divs[i].find('p')\n",
    "                    content = [x for x in divs[i].find_all(['p','ol','h3','h4','ul']) if x!=title]\n",
    "                    steps.append([title,content])\n",
    "            elif (divs[i].has_attr('class')):\n",
    "                 if (\n",
    "                     'cmp-text' in divs[i]['class'][0]\n",
    "                     and divs[i].find('p') is not None\n",
    "                 ):\n",
    "                    title = divs[i].find('p')\n",
    "                    content = [x for x in divs[i].find_all(['p','ol','h3','h4','ul']) if x!=title]\n",
    "                    steps.append([title,content])\n",
    "        \n",
    "        elif i < len(divs)-1:\n",
    "            if (\n",
    "                divs[i].has_attr('class')\n",
    "                and divs[i+1].has_attr('class')\n",
    "                and divs[i].find('h3') is not None\n",
    "            ): \n",
    "                if (\n",
    "                    divs[i]['class'][0] == \"cmp-title\"\n",
    "                    and divs[i+1]['class'][0] == \"text\"\n",
    "                    and 'Step' in divs[i].find('h3').text\n",
    "                ):\n",
    "                    steps.append([divs[i],divs[i+1]])\n",
    "                elif (\n",
    "                    'cmp-text' in divs[i]['class'][0]\n",
    "                    and divs[i].find('p') is not None\n",
    "                ):\n",
    "                    title = divs[i].find('p')\n",
    "                    content = [x for x in divs[i].find_all(['p','ol','h3','h4','ul']) if x!=title]\n",
    "                    steps.append([title,content])\n",
    "            elif (divs[i].has_attr('class')):\n",
    "                 if (\n",
    "                     'cmp-text' in divs[i]['class'][0]\n",
    "                     and divs[i].find('p') is not None\n",
    "                 ):\n",
    "                    title = divs[i].find('p')\n",
    "                    content = [x for x in divs[i].find_all(['p','ol','h3','h4','ul']) if x!=title]\n",
    "                    steps.append([title,content])\n",
    "        elif(divs[i].has_attr('class')):\n",
    "            if (\n",
    "                'cmp-text' in divs[i]['class'][0]\n",
    "                and divs[i].find('p') is not None\n",
    "            ):\n",
    "                title = divs[i].find('p')\n",
    "                content = [x for x in divs[i].find_all(['p','ol','h3','h4','ul']) if x!=title]\n",
    "                steps.append([title,content])\n",
    "    \n",
    "    return steps"
   ]
  },
  {
   "cell_type": "code",
   "execution_count": 27,
   "id": "22e980e1",
   "metadata": {},
   "outputs": [],
   "source": [
    "# FAQ\n",
    "def generate_faq(raw):\n",
    "    spans = raw.find_all('span')\n",
    "    faq = []\n",
    "    for i in range(len(spans)):\n",
    "        try:\n",
    "            if (spans[i]['class'][0] == 'leo-toggle--title'\n",
    "                and spans[i+2]['class'][0] == 'footnotes-icon-help'\n",
    "            ):\n",
    "                faq.append([spans[i],spans[i+2]])\n",
    "        except:\n",
    "            continue\n",
    "    return faq"
   ]
  },
  {
   "cell_type": "code",
   "execution_count": 28,
   "id": "510bb98a",
   "metadata": {},
   "outputs": [],
   "source": [
    "def process_tags(tag_list):\n",
    "    symbols_nospace = ['<i>','</i>',u'\\t']\n",
    "    symbols_space = ['<b>','</b>',u'\\n',u'\\xa0']\n",
    "    processed = []\n",
    "    for t in tag_list:\n",
    "        if t[0] is None or t[1] is None: continue\n",
    "        title = t[0].text\n",
    "        if isinstance(t[1],list) == False:\n",
    "            content = t[1].find_all(['p','h3','h4','li'])\n",
    "        else:\n",
    "            content = []\n",
    "            for c in t[1]:\n",
    "                if len(c.find_all()) > 0:\n",
    "                    content.extend(c.find_all(['p','li']))\n",
    "                else: \n",
    "                    content.append(c)\n",
    "        combined = title\n",
    "        for line in content:\n",
    "            line = line.text\n",
    "            for s in symbols_nospace:\n",
    "                line = line.replace(s,'')\n",
    "            for s in symbols_space:\n",
    "                line = line.replace(s,' ') #.rstrip()\n",
    "            combined += ' '\n",
    "            combined += line\n",
    "        processed.append(combined)\n",
    "    return processed"
   ]
  },
  {
   "cell_type": "code",
   "execution_count": 61,
   "id": "1c33e6c2",
   "metadata": {},
   "outputs": [],
   "source": [
    "def get_data(links_dict):\n",
    "    df = pd.DataFrame(columns=['page','text'])\n",
    "    for page in links_dict:\n",
    "        req = requests.get(links_dict[page])\n",
    "        raw = BS(req.content,'html.parser')\n",
    "        steps_page = process_tags(generate_steps(raw))\n",
    "        steps_page = [page.split('/')[-1] + ' steps: ' + x for x in steps_page]\n",
    "        faq_page = process_tags(generate_faq(raw))\n",
    "        faq_page = [page.split('/')[-1] + ' FAQ: ' + x for x in faq_page]\n",
    "        temp_df = pd.DataFrame(steps_page,columns=['text'])\n",
    "        temp_df = pd.concat([temp_df,pd.DataFrame(faq_page,columns=['text'])],ignore_index=True)\n",
    "        temp_df['page'] = page\n",
    "        temp_df = temp_df[['page','text']]\n",
    "        df = pd.concat([df,temp_df],ignore_index=True)\n",
    "    return df"
   ]
  },
  {
   "cell_type": "markdown",
   "id": "f1327fc5",
   "metadata": {},
   "source": [
    "#### Complete Run:"
   ]
  },
  {
   "cell_type": "markdown",
   "id": "68bd280e",
   "metadata": {},
   "source": [
    "Claims:"
   ]
  },
  {
   "cell_type": "code",
   "execution_count": 2,
   "id": "7815362b",
   "metadata": {},
   "outputs": [],
   "source": [
    "# Generate list of webpages for GE/Self-service guides/Claims\n",
    "claims_r = requests.get('https://www.greateasternlife.com/sg/en/customer-services/guides.html?topic=claims')\n",
    "claims_raw = BS(claims_r.content,'html.parser').find_all('div',class_='claims')\n",
    "\n",
    "links_0 = claims_raw[1].find_all('a',class_='leo-button leo-font-normal leo-border-b-0 leo-button--link leo-link-arrow')\n",
    "claims_links = {}\n",
    "for link in links_0:\n",
    "    try:\n",
    "        if ('form' not in link['title']\n",
    "            and ' claim' in link['title']\n",
    "           ):\n",
    "            link_title = 'Self-service guides/Claims/'+link['data-subcategory']\n",
    "            claims_links[link_title] = 'https://www.greateasternlife.com'+link['href']\n",
    "    except:\n",
    "        continue"
   ]
  },
  {
   "cell_type": "code",
   "execution_count": 30,
   "id": "54d8b9e5",
   "metadata": {},
   "outputs": [
    {
     "name": "stderr",
     "output_type": "stream",
     "text": [
      " 38%|███████████████████████████████▉                                                   | 5/13 [00:02<00:03,  2.03it/s]Some characters could not be decoded, and were replaced with REPLACEMENT CHARACTER.\n",
      "100%|██████████████████████████████████████████████████████████████████████████████████| 13/13 [00:18<00:00,  1.42s/it]\n"
     ]
    },
    {
     "data": {
      "text/html": [
       "<div>\n",
       "<style scoped>\n",
       "    .dataframe tbody tr th:only-of-type {\n",
       "        vertical-align: middle;\n",
       "    }\n",
       "\n",
       "    .dataframe tbody tr th {\n",
       "        vertical-align: top;\n",
       "    }\n",
       "\n",
       "    .dataframe thead th {\n",
       "        text-align: right;\n",
       "    }\n",
       "</style>\n",
       "<table border=\"1\" class=\"dataframe\">\n",
       "  <thead>\n",
       "    <tr style=\"text-align: right;\">\n",
       "      <th></th>\n",
       "      <th>page</th>\n",
       "      <th>text</th>\n",
       "    </tr>\n",
       "  </thead>\n",
       "  <tbody>\n",
       "    <tr>\n",
       "      <th>0</th>\n",
       "      <td>Self-service guides/Claims/Careshield and Elde...</td>\n",
       "      <td>Careshield and Eldershield claim steps: If you...</td>\n",
       "    </tr>\n",
       "    <tr>\n",
       "      <th>1</th>\n",
       "      <td>Self-service guides/Claims/Careshield and Elde...</td>\n",
       "      <td>Careshield and Eldershield claim steps: \\nStep...</td>\n",
       "    </tr>\n",
       "    <tr>\n",
       "      <th>2</th>\n",
       "      <td>Self-service guides/Claims/Careshield and Elde...</td>\n",
       "      <td>Careshield and Eldershield claim steps: \\nStep...</td>\n",
       "    </tr>\n",
       "    <tr>\n",
       "      <th>3</th>\n",
       "      <td>Self-service guides/Claims/Careshield and Elde...</td>\n",
       "      <td>Careshield and Eldershield claim FAQ: Need mor...</td>\n",
       "    </tr>\n",
       "    <tr>\n",
       "      <th>4</th>\n",
       "      <td>Self-service guides/Claims/Careshield and Elde...</td>\n",
       "      <td>Careshield and Eldershield claim FAQ: What is ...</td>\n",
       "    </tr>\n",
       "    <tr>\n",
       "      <th>5</th>\n",
       "      <td>Self-service guides/Claims/Careshield and Elde...</td>\n",
       "      <td>Careshield and Eldershield claim FAQ: What are...</td>\n",
       "    </tr>\n",
       "    <tr>\n",
       "      <th>6</th>\n",
       "      <td>Self-service guides/Claims/Careshield and Elde...</td>\n",
       "      <td>Careshield and Eldershield claim FAQ: Can I se...</td>\n",
       "    </tr>\n",
       "    <tr>\n",
       "      <th>7</th>\n",
       "      <td>Self-service guides/Claims/Careshield and Elde...</td>\n",
       "      <td>Careshield and Eldershield claim FAQ: Should I...</td>\n",
       "    </tr>\n",
       "    <tr>\n",
       "      <th>8</th>\n",
       "      <td>Self-service guides/Claims/Careshield and Elde...</td>\n",
       "      <td>Careshield and Eldershield claim FAQ: How long...</td>\n",
       "    </tr>\n",
       "    <tr>\n",
       "      <th>9</th>\n",
       "      <td>Self-service guides/Claims/Careshield and Elde...</td>\n",
       "      <td>Careshield and Eldershield claim FAQ: How will...</td>\n",
       "    </tr>\n",
       "  </tbody>\n",
       "</table>\n",
       "</div>"
      ],
      "text/plain": [
       "                                                page  \\\n",
       "0  Self-service guides/Claims/Careshield and Elde...   \n",
       "1  Self-service guides/Claims/Careshield and Elde...   \n",
       "2  Self-service guides/Claims/Careshield and Elde...   \n",
       "3  Self-service guides/Claims/Careshield and Elde...   \n",
       "4  Self-service guides/Claims/Careshield and Elde...   \n",
       "5  Self-service guides/Claims/Careshield and Elde...   \n",
       "6  Self-service guides/Claims/Careshield and Elde...   \n",
       "7  Self-service guides/Claims/Careshield and Elde...   \n",
       "8  Self-service guides/Claims/Careshield and Elde...   \n",
       "9  Self-service guides/Claims/Careshield and Elde...   \n",
       "\n",
       "                                                text  \n",
       "0  Careshield and Eldershield claim steps: If you...  \n",
       "1  Careshield and Eldershield claim steps: \\nStep...  \n",
       "2  Careshield and Eldershield claim steps: \\nStep...  \n",
       "3  Careshield and Eldershield claim FAQ: Need mor...  \n",
       "4  Careshield and Eldershield claim FAQ: What is ...  \n",
       "5  Careshield and Eldershield claim FAQ: What are...  \n",
       "6  Careshield and Eldershield claim FAQ: Can I se...  \n",
       "7  Careshield and Eldershield claim FAQ: Should I...  \n",
       "8  Careshield and Eldershield claim FAQ: How long...  \n",
       "9  Careshield and Eldershield claim FAQ: How will...  "
      ]
     },
     "execution_count": 30,
     "metadata": {},
     "output_type": "execute_result"
    }
   ],
   "source": [
    "claims_df = get_data(claims_links)\n",
    "claims_df.head(10)"
   ]
  },
  {
   "cell_type": "markdown",
   "id": "920e1fbe",
   "metadata": {},
   "source": [
    "Investment-linked:"
   ]
  },
  {
   "cell_type": "code",
   "execution_count": 22,
   "id": "3f4a310c",
   "metadata": {},
   "outputs": [],
   "source": [
    "inv_r = requests.get('https://www.greateasternlife.com/sg/en/customer-services/guides.html?topic=insurance-guides')\n",
    "inv_raw = BS(inv_r.content,'html.parser').find('div',class_='service-guide-inside-list d-none investment-linked')\n",
    "links_0 = inv_raw.find_all('a',class_='leo-button leo-font-normal leo-border-b-0 leo-button--link leo-link-arrow')\n",
    "inv_links = {}\n",
    "for link in links_0:\n",
    "    try:\n",
    "        if ('View' not in link['title']\n",
    "           ):\n",
    "            link_title = 'Self-service guides/Investment-linked/'+link['title']\n",
    "            inv_links[link_title] = 'https://www.greateasternlife.com'+link['href']\n",
    "    except:\n",
    "        continue"
   ]
  },
  {
   "cell_type": "code",
   "execution_count": 31,
   "id": "44a0b141",
   "metadata": {},
   "outputs": [
    {
     "name": "stderr",
     "output_type": "stream",
     "text": [
      "100%|████████████████████████████████████████████████████████████████████████████████████| 4/4 [00:01<00:00,  2.11it/s]\n"
     ]
    },
    {
     "data": {
      "text/html": [
       "<div>\n",
       "<style scoped>\n",
       "    .dataframe tbody tr th:only-of-type {\n",
       "        vertical-align: middle;\n",
       "    }\n",
       "\n",
       "    .dataframe tbody tr th {\n",
       "        vertical-align: top;\n",
       "    }\n",
       "\n",
       "    .dataframe thead th {\n",
       "        text-align: right;\n",
       "    }\n",
       "</style>\n",
       "<table border=\"1\" class=\"dataframe\">\n",
       "  <thead>\n",
       "    <tr style=\"text-align: right;\">\n",
       "      <th></th>\n",
       "      <th>page</th>\n",
       "      <th>text</th>\n",
       "    </tr>\n",
       "  </thead>\n",
       "  <tbody>\n",
       "    <tr>\n",
       "      <th>0</th>\n",
       "      <td>Self-service guides/Investment-linked/Apportio...</td>\n",
       "      <td>Apportion premium for investment-linked plan s...</td>\n",
       "    </tr>\n",
       "    <tr>\n",
       "      <th>1</th>\n",
       "      <td>Self-service guides/Investment-linked/Apportio...</td>\n",
       "      <td>Apportion premium for investment-linked plan F...</td>\n",
       "    </tr>\n",
       "    <tr>\n",
       "      <th>2</th>\n",
       "      <td>Self-service guides/Investment-linked/Complete...</td>\n",
       "      <td>Complete Customer Knowledge Assessment (CKA) s...</td>\n",
       "    </tr>\n",
       "    <tr>\n",
       "      <th>3</th>\n",
       "      <td>Self-service guides/Investment-linked/Complete...</td>\n",
       "      <td>Complete Customer Knowledge Assessment (CKA) F...</td>\n",
       "    </tr>\n",
       "    <tr>\n",
       "      <th>4</th>\n",
       "      <td>Self-service guides/Investment-linked/Switch f...</td>\n",
       "      <td>Switch funds for an investment-linked plan ste...</td>\n",
       "    </tr>\n",
       "    <tr>\n",
       "      <th>5</th>\n",
       "      <td>Self-service guides/Investment-linked/Switch f...</td>\n",
       "      <td>Switch funds for an investment-linked plan FAQ...</td>\n",
       "    </tr>\n",
       "    <tr>\n",
       "      <th>6</th>\n",
       "      <td>Self-service guides/Investment-linked/Withdraw...</td>\n",
       "      <td>Withdraw from an investment-linked plan steps:...</td>\n",
       "    </tr>\n",
       "    <tr>\n",
       "      <th>7</th>\n",
       "      <td>Self-service guides/Investment-linked/Withdraw...</td>\n",
       "      <td>Withdraw from an investment-linked plan FAQ: H...</td>\n",
       "    </tr>\n",
       "  </tbody>\n",
       "</table>\n",
       "</div>"
      ],
      "text/plain": [
       "                                                page  \\\n",
       "0  Self-service guides/Investment-linked/Apportio...   \n",
       "1  Self-service guides/Investment-linked/Apportio...   \n",
       "2  Self-service guides/Investment-linked/Complete...   \n",
       "3  Self-service guides/Investment-linked/Complete...   \n",
       "4  Self-service guides/Investment-linked/Switch f...   \n",
       "5  Self-service guides/Investment-linked/Switch f...   \n",
       "6  Self-service guides/Investment-linked/Withdraw...   \n",
       "7  Self-service guides/Investment-linked/Withdraw...   \n",
       "\n",
       "                                                text  \n",
       "0  Apportion premium for investment-linked plan s...  \n",
       "1  Apportion premium for investment-linked plan F...  \n",
       "2  Complete Customer Knowledge Assessment (CKA) s...  \n",
       "3  Complete Customer Knowledge Assessment (CKA) F...  \n",
       "4  Switch funds for an investment-linked plan ste...  \n",
       "5  Switch funds for an investment-linked plan FAQ...  \n",
       "6  Withdraw from an investment-linked plan steps:...  \n",
       "7  Withdraw from an investment-linked plan FAQ: H...  "
      ]
     },
     "execution_count": 31,
     "metadata": {},
     "output_type": "execute_result"
    }
   ],
   "source": [
    "inv_df = get_data(inv_links)\n",
    "inv_df.head(10)"
   ]
  },
  {
   "cell_type": "code",
   "execution_count": 20,
   "id": "cc99f662",
   "metadata": {},
   "outputs": [],
   "source": [
    "ins_r = requests.get('https://www.greateasternlife.com/sg/en/customer-services/guides.html?topic=insurance-guides')\n",
    "ins_raw = BS(ins_r.content,'html.parser')\n",
    "links_0 = ins_raw.find_all('a',class_='leo-button leo-font-normal leo-border-b-0 leo-button--link leo-link-arrow')\n",
    "ins_links = {}\n",
    "for link in links_0:\n",
    "    try:\n",
    "        if ('PDF' in link['title']\n",
    "           ):\n",
    "            link_title = 'Self-service guides/Insurance guides/'+link['title']\n",
    "            ins_links[link_title] = 'https://www.greateasternlife.com'+link['href']\n",
    "    except:\n",
    "        continue"
   ]
  },
  {
   "cell_type": "markdown",
   "id": "03beb8f1",
   "metadata": {},
   "source": [
    "Temp - to create text files for OpenAI Assistant API:"
   ]
  },
  {
   "cell_type": "code",
   "execution_count": 32,
   "id": "9d53507a",
   "metadata": {},
   "outputs": [],
   "source": [
    "# For the existing inv & claims dataframes\n",
    "folder = r'ge_html_files_v1'\n",
    "temp_list = [(inv_df,os.path.join(folder,'investment_linked.txt')),\n",
    "           (claims_df,os.path.join(folder,'claims.txt'))]\n",
    "for doc in temp_list:\n",
    "    filename = doc[1]\n",
    "    text = doc[0]['text'].tolist()\n",
    "    with open(filename,'w') as file:\n",
    "        for row in text:\n",
    "            file.write(row+'\\n')"
   ]
  },
  {
   "cell_type": "code",
   "execution_count": 75,
   "id": "02fd5183",
   "metadata": {},
   "outputs": [],
   "source": [
    "# Loans, Payment, Policy assignment, Policy benefits, Policy reinstatement, Rewards and promotions\n",
    "curated_r = requests.get('https://www.greateasternlife.com/sg/en/customer-services/guides.html?topic=rewards-and-promotions')\n",
    "curated_raw = BS(curated_r.content,'html.parser')\n",
    "curated_list = ['loans','payment','policy-assignment','policy-benefits','policy-reinstatement','policy-nomination','purchase-of-insurance','rewards-and-promotions']\n",
    "divs = curated_raw.find_all('div')\n",
    "divs = [div for div in divs if div.has_attr('class')]\n",
    "divs = [div for div in divs if 'leo-p-lg' in div['class'] and 'list-item' in div['class'] and 'leo-text-accent' in div['class']]\n",
    "curated_links = {}\n",
    "for div in divs:\n",
    "    a_list = div.find_all('a',class_=\"leo-button leo-font-normal leo-border-b-0 leo-button--link leo-link-arrow\")\n",
    "    for link in a_list:\n",
    "        try:\n",
    "            cat_1 = link['href'].split('/')[-2]\n",
    "            cat_2 = link['href'].split('/')[-3]\n",
    "            if ('PDF' not in link['title']\n",
    "                and (cat_1 in curated_list\n",
    "                or cat_2 in curated_list)\n",
    "               ):\n",
    "                if cat_1 in curated_list:\n",
    "                    link_title = 'Self-service guides/'+cat_1+'/'+link['title']\n",
    "                else: \n",
    "                    link_title = 'Self-service guides/'+cat_2+'/'+link['title']\n",
    "                curated_links[link_title] = 'https://www.greateasternlife.com'+link['href']\n",
    "        except:\n",
    "            continue"
   ]
  },
  {
   "cell_type": "code",
   "execution_count": 77,
   "id": "49c5bc5d",
   "metadata": {},
   "outputs": [
    {
     "name": "stderr",
     "output_type": "stream",
     "text": [
      "100%|████████████████████████████████████████████████████████████████████████████████████| 8/8 [03:31<00:00, 26.39s/it]\n"
     ]
    }
   ],
   "source": [
    "folder = r'ge_html_files_v1'\n",
    "for cat in tqdm(curated_list):\n",
    "    temp_cat_list = [c for c in curated_links.keys() if cat in c]\n",
    "    df = pd.DataFrame(columns = ['page','text'])\n",
    "    for c in temp_cat_list:\n",
    "        df0 = get_data(curated_links)   \n",
    "        df = pd.concat([df,df0],ignore_index=True)\n",
    "    text = df['text'].tolist()\n",
    "    filename = os.path.join(folder,cat.replace('-','_')+'.txt')\n",
    "    with open(filename,'w') as file:\n",
    "        for row in text:\n",
    "            file.write(row+'\\n')\n",
    "    df.to_json(cat.replace('-','_')+'.jsonl',lines=True,orient='records')"
   ]
  },
  {
   "cell_type": "code",
   "execution_count": 91,
   "id": "5e747698",
   "metadata": {},
   "outputs": [],
   "source": [
    "inv_df.to_json('ge_ss_investmentlinked.jsonl',lines=True,orient='records')\n",
    "claims_df.to_json('ge_ss_claims.jsonl',lines=True,orient='records')"
   ]
  },
  {
   "cell_type": "markdown",
   "id": "1685c9a3",
   "metadata": {},
   "source": [
    "Download links as pdf"
   ]
  },
  {
   "cell_type": "code",
   "execution_count": 1,
   "id": "58b78ca3",
   "metadata": {},
   "outputs": [],
   "source": [
    "import mechanicalsoup"
   ]
  },
  {
   "cell_type": "code",
   "execution_count": 23,
   "id": "c4fed275",
   "metadata": {},
   "outputs": [
    {
     "name": "stderr",
     "output_type": "stream",
     "text": [
      "100%|████████████████████████████████████████████████████████████████████████████████████| 3/3 [02:30<00:00, 50.32s/it]\n"
     ]
    }
   ],
   "source": [
    "folder = r'ge_html_files'\n",
    "browser = mechanicalsoup.StatefulBrowser()\n",
    "for links in tqdm([claims_links,inv_links,ins_links]):\n",
    "    for file in links:\n",
    "        if os.path.exists(folder) == False:\n",
    "            os.makedirs(folder)\n",
    "        pdf_path = os.path.join(folder,file.split('/')[-1]+'.pdf')\n",
    "        response = browser.open(links[file])\n",
    "        with open(pdf_path,'wb') as f:\n",
    "            f.write(response.content)"
   ]
  },
  {
   "cell_type": "markdown",
   "id": "7b1fb9c1",
   "metadata": {},
   "source": [
    "### Retrieval"
   ]
  },
  {
   "cell_type": "code",
   "execution_count": 2,
   "id": "347fb0fc",
   "metadata": {},
   "outputs": [],
   "source": [
    "path2 = os.path.join(path,r'ge_html_files_jsonl')\n",
    "data = pd.DataFrame(columns=['page','text'])\n",
    "for f in os.listdir(path2):\n",
    "#     if os.path.isfile(f):\n",
    "    temp_df = pd.read_json(os.path.join(path2,f),lines=True,orient='records')\n",
    "    data = pd.concat([data,temp_df],ignore_index=True)\n",
    "texts = data['text'].tolist()"
   ]
  },
  {
   "cell_type": "code",
   "execution_count": 3,
   "id": "bdf7dac9",
   "metadata": {},
   "outputs": [
    {
     "data": {
      "text/html": [
       "<div>\n",
       "<style scoped>\n",
       "    .dataframe tbody tr th:only-of-type {\n",
       "        vertical-align: middle;\n",
       "    }\n",
       "\n",
       "    .dataframe tbody tr th {\n",
       "        vertical-align: top;\n",
       "    }\n",
       "\n",
       "    .dataframe thead th {\n",
       "        text-align: right;\n",
       "    }\n",
       "</style>\n",
       "<table border=\"1\" class=\"dataframe\">\n",
       "  <thead>\n",
       "    <tr style=\"text-align: right;\">\n",
       "      <th></th>\n",
       "      <th>page</th>\n",
       "      <th>text</th>\n",
       "    </tr>\n",
       "  </thead>\n",
       "  <tbody>\n",
       "    <tr>\n",
       "      <th>0</th>\n",
       "      <td>Self-service guides/Claims/Careshield and Elde...</td>\n",
       "      <td>Careshield and Eldershield claim steps: If you...</td>\n",
       "    </tr>\n",
       "    <tr>\n",
       "      <th>1</th>\n",
       "      <td>Self-service guides/Claims/Careshield and Elde...</td>\n",
       "      <td>Careshield and Eldershield claim steps: \\nStep...</td>\n",
       "    </tr>\n",
       "    <tr>\n",
       "      <th>2</th>\n",
       "      <td>Self-service guides/Claims/Careshield and Elde...</td>\n",
       "      <td>Careshield and Eldershield claim steps: \\nStep...</td>\n",
       "    </tr>\n",
       "    <tr>\n",
       "      <th>3</th>\n",
       "      <td>Self-service guides/Claims/Careshield and Elde...</td>\n",
       "      <td>Careshield and Eldershield claim FAQ: Need mor...</td>\n",
       "    </tr>\n",
       "    <tr>\n",
       "      <th>4</th>\n",
       "      <td>Self-service guides/Claims/Careshield and Elde...</td>\n",
       "      <td>Careshield and Eldershield claim FAQ: What is ...</td>\n",
       "    </tr>\n",
       "  </tbody>\n",
       "</table>\n",
       "</div>"
      ],
      "text/plain": [
       "                                                page  \\\n",
       "0  Self-service guides/Claims/Careshield and Elde...   \n",
       "1  Self-service guides/Claims/Careshield and Elde...   \n",
       "2  Self-service guides/Claims/Careshield and Elde...   \n",
       "3  Self-service guides/Claims/Careshield and Elde...   \n",
       "4  Self-service guides/Claims/Careshield and Elde...   \n",
       "\n",
       "                                                text  \n",
       "0  Careshield and Eldershield claim steps: If you...  \n",
       "1  Careshield and Eldershield claim steps: \\nStep...  \n",
       "2  Careshield and Eldershield claim steps: \\nStep...  \n",
       "3  Careshield and Eldershield claim FAQ: Need mor...  \n",
       "4  Careshield and Eldershield claim FAQ: What is ...  "
      ]
     },
     "execution_count": 3,
     "metadata": {},
     "output_type": "execute_result"
    }
   ],
   "source": [
    "data.head()"
   ]
  },
  {
   "cell_type": "markdown",
   "id": "03f40820",
   "metadata": {},
   "source": [
    "#### Train Retriever"
   ]
  },
  {
   "cell_type": "code",
   "execution_count": 4,
   "id": "d3dd3f11",
   "metadata": {},
   "outputs": [],
   "source": [
    "# Init\n",
    "from langchain_community.document_loaders import PyPDFLoader\n",
    "from langchain_community.vectorstores import Chroma\n",
    "from langchain_experimental.text_splitter import SemanticChunker\n",
    "from langchain_openai.embeddings import OpenAIEmbeddings\n",
    "from langchain.text_splitter import RecursiveCharacterTextSplitter\n",
    "from sentence_transformers import SentenceTransformer, util, models"
   ]
  },
  {
   "cell_type": "code",
   "execution_count": 5,
   "id": "4c0e48c0",
   "metadata": {},
   "outputs": [],
   "source": [
    "text_splitter_rc = RecursiveCharacterTextSplitter(\n",
    "    chunk_size = 1000, # To test\n",
    "    chunk_overlap = 2,\n",
    "    length_function = len,\n",
    "    is_separator_regex = False\n",
    ")\n",
    "docs_rc = text_splitter_rc.create_documents(texts)\n",
    "docs_rc_text = [doc.page_content for doc in docs_rc]"
   ]
  },
  {
   "cell_type": "code",
   "execution_count": 6,
   "id": "aa6ceeea",
   "metadata": {},
   "outputs": [
    {
     "name": "stderr",
     "output_type": "stream",
     "text": [
      "C:\\Users\\yongz\\miniforge3\\envs\\llm-env\\Lib\\site-packages\\torch\\_utils.py:831: UserWarning: TypedStorage is deprecated. It will be removed in the future and UntypedStorage will be the only storage class. This should only matter to you if you are using storages directly.  To access UntypedStorage directly, use tensor.untyped_storage() instead of tensor.storage()\n",
      "  return self.fget.__get__(instance, owner)()\n"
     ]
    }
   ],
   "source": [
    "# Try models:\n",
    "\n",
    "# emb_model = SentenceTransformer('sentence-transformers/all-mpnet-base-v2',device='cuda')\n",
    "emb_model1 = SentenceTransformer('sentence-transformers/multi-qa-MiniLM-L6-cos-v1',device='cuda')\n",
    "emb_model1.save('SBERT_MiniLM_L6')\n",
    "# emb_model1 = SentenceTransformer('SBERT_MiniLM_L6')\n",
    "# emb_model = SentenceTransformer('sentence-transformers/multi-qa-mpnet-base-dot-v1')"
   ]
  },
  {
   "cell_type": "code",
   "execution_count": 20,
   "id": "2c3f8098",
   "metadata": {},
   "outputs": [],
   "source": [
    "docs_emb = emb_model1.encode(docs_rc_text) # Accepts iterable\n",
    "# db = Chroma.from_documents(docs_rc,emb_model,persist_directory='./chroma_db_v0') # no 'embed_doc' method error\n",
    "with open('ge_embeddings_v1.pkl','wb') as file:\n",
    "    pickle.dump({'docs':docs_rc_text,'embeddings':docs_emb},file,protocol=pickle.HIGHEST_PROTOCOL)"
   ]
  },
  {
   "cell_type": "markdown",
   "id": "446ccbad",
   "metadata": {},
   "source": [
    "After restarting a kernel, proceed to the following cells after init:"
   ]
  },
  {
   "cell_type": "code",
   "execution_count": 7,
   "id": "b1bab3b0",
   "metadata": {},
   "outputs": [],
   "source": [
    "# emb_model = SentenceTransformer('sentence-transformers/all-mpnet-base-v2',device='cuda')\n",
    "emb_model = SentenceTransformer('SBERT_MiniLM_L6',device='cuda')"
   ]
  },
  {
   "cell_type": "code",
   "execution_count": 8,
   "id": "20aab24e",
   "metadata": {},
   "outputs": [],
   "source": [
    "with open('ge_embeddings_v1.pkl','rb') as file:\n",
    "    stored_data = pickle.load(file)\n",
    "    docs_rc_text = stored_data['docs']\n",
    "    docs_emb = stored_data['embeddings']"
   ]
  },
  {
   "cell_type": "code",
   "execution_count": 9,
   "id": "06e3079f",
   "metadata": {},
   "outputs": [],
   "source": [
    "test_queries = [\n",
    "    'How do I make a Careshield Claim?',\n",
    "    'How do I apply for a doctor\\'s statement to get a disability claim?',\n",
    "    'How can I file for personal accident claims for the Supreme plan?'\n",
    "] \n",
    "def get_scores(query):\n",
    "    query_emb = emb_model.encode(query)\n",
    "#     scores = util.dot_score(query_emb,docs_emb)[0].cpu().tolist()\n",
    "    scores = util.cos_sim(query_emb,docs_emb)[0].cpu().tolist()\n",
    "    doc_score_pairs = list(zip(docs_rc_text,scores))\n",
    "    doc_score_pairs = sorted(doc_score_pairs,key=lambda x: x[1], reverse=True)\n",
    "    return doc_score_pairs # > 0.6\n",
    "\n",
    "def get_docs(query,k=0.6):\n",
    "    doc_scores = get_scores(query)\n",
    "    docs = []\n",
    "    for i in range(len(doc_scores)):\n",
    "        if doc_scores[i][1] >= k:\n",
    "            docs.append(doc_scores[i][0])\n",
    "        else: break\n",
    "    return docs\n",
    "\n",
    "def get_prompt(query):\n",
    "    docs = ''\n",
    "    chosen_docs = get_docs(query)\n",
    "    for i in chosen_docs:\n",
    "        docs += i\n",
    "        docs += '\\n'\n",
    "    prompt = f\"You are a financial advisor from Great Eastern Singapore. You are to assist the client as professionally and truthfully as possible. Respond to the client\\'s prompt based on the folowing documents:\\n==== document(s): {docs}\\n====\\n\\nprompt: {query}\\nresponse:\"\n",
    "    return prompt"
   ]
  },
  {
   "cell_type": "markdown",
   "id": "cef8b2dd",
   "metadata": {},
   "source": [
    "Chat Agent:"
   ]
  },
  {
   "cell_type": "code",
   "execution_count": 9,
   "id": "7ceaffda",
   "metadata": {},
   "outputs": [],
   "source": [
    "# Init\n",
    "from openai import OpenAI\n",
    "# from langchain_openai import ChatOpenAI\n",
    "# from langchain.agents import tool\n",
    "# from langchain_core.prompts import ChatPromptTemplate, MessagesPlaceholder\n",
    "# from dotenv import load_dotenv\n",
    "# from langchain.agents.format_scratchpad.openai_tools import format_to_openai_tool #Error here"
   ]
  },
  {
   "cell_type": "code",
   "execution_count": 13,
   "id": "1b5f1c56",
   "metadata": {},
   "outputs": [
    {
     "name": "stdout",
     "output_type": "stream",
     "text": [
      "ChatCompletion(id='chatcmpl-8orS54ZLFu9mKfKpHakDr9c2sUTN7', choices=[Choice(finish_reason='stop', index=0, logprobs=None, message=ChatCompletionMessage(content=\"To make a Careshield claim, you need to follow these steps:\\n\\nStep 1: Download the necessary documents from our website. These documents include the Claimant's Statement, Letter of Undertaking and Indemnity, and Clinical Abstract Application.\\n\\nStep 2: Book an appointment with one of our appointed Assessors. You will need to be assessed by the Assessor to obtain the Assessor's Statement. You can choose between a clinic appointment or a house call, but there will be a fee of $100 for a clinic-based assessment or $250 for a non-clinic based assessment.\\n\\nStep 3: On the appointment day, bring along the completed documents you downloaded in Step 1, as well as any available medical reports or discharge summary.\\n\\nStep 4: The Assessor's Statement and all your documents will be sent directly to Great Eastern. Once we receive the documents, we will proceed to process your claim.\\n\\nIt's important to note that if you are unable to go back to Singapore to make the claim, you will need to obtain the Claim Form from our website or contact our Customer Service Centre to request a copy to be mailed to you. You will then have to submit the completed statement, along with any available medical reports from registered practitioners in Western medicine, and provide the name, address, and clinic of the doctor certifying your medical condition. The insurer will assess the claim and may request your disability to be assessed by a specialist in your country of residence, if necessary. We will make every reasonable effort to assist you with your claim, even if you are overseas.\", role='assistant', function_call=None, tool_calls=None))], created=1707132561, model='gpt-3.5-turbo-0613', object='chat.completion', system_fingerprint=None, usage=CompletionUsage(completion_tokens=321, prompt_tokens=600, total_tokens=921))\n"
     ]
    }
   ],
   "source": [
    "# load_dotenv\n",
    "client = OpenAI(\n",
    "    api_key = os.environ.get('OPENAI_API_KEY')\n",
    ")\n",
    "ge_prompt = get_prompt(test_queries[0])\n",
    "response = client.chat.completions.create(\n",
    "    messages = [\n",
    "        {\n",
    "        'role':'user',\n",
    "        'content':ge_prompt,\n",
    "        }  \n",
    "    ],\n",
    "    model=\"gpt-3.5-turbo\"\n",
    ")\n",
    "print(response)"
   ]
  },
  {
   "cell_type": "code",
   "execution_count": 19,
   "id": "810e9e60",
   "metadata": {},
   "outputs": [
    {
     "name": "stdout",
     "output_type": "stream",
     "text": [
      "Query: How do I make a Careshield Claim? \n",
      "\n",
      "Response: To make a Careshield claim, you need to follow these steps:\n",
      "\n",
      "Step 1: Download the necessary documents from our website. These documents include the Claimant's Statement, Letter of Undertaking and Indemnity, and Clinical Abstract Application.\n",
      "\n",
      "Step 2: Book an appointment with one of our appointed Assessors. You will need to be assessed by the Assessor to obtain the Assessor's Statement. You can choose between a clinic appointment or a house call, but there will be a fee of $100 for a clinic-based assessment or $250 for a non-clinic based assessment.\n",
      "\n",
      "Step 3: On the appointment day, bring along the completed documents you downloaded in Step 1, as well as any available medical reports or discharge summary.\n",
      "\n",
      "Step 4: The Assessor's Statement and all your documents will be sent directly to Great Eastern. Once we receive the documents, we will proceed to process your claim.\n",
      "\n",
      "It's important to note that if you are unable to go back to Singapore to make the claim, you will need to obtain the Claim Form from our website or contact our Customer Service Centre to request a copy to be mailed to you. You will then have to submit the completed statement, along with any available medical reports from registered practitioners in Western medicine, and provide the name, address, and clinic of the doctor certifying your medical condition. The insurer will assess the claim and may request your disability to be assessed by a specialist in your country of residence, if necessary. We will make every reasonable effort to assist you with your claim, even if you are overseas.\n"
     ]
    }
   ],
   "source": [
    "print('Query:',test_queries[0],'\\n')\n",
    "# print(get_scores(test_queries[0])[0:2])\n",
    "print('Response:',response.choices[0].message.content)"
   ]
  },
  {
   "cell_type": "code",
   "execution_count": null,
   "id": "4b4f0e4c",
   "metadata": {},
   "outputs": [],
   "source": []
  }
 ],
 "metadata": {
  "kernelspec": {
   "display_name": "llm-env0",
   "language": "python",
   "name": "llm-env0"
  },
  "language_info": {
   "codemirror_mode": {
    "name": "ipython",
    "version": 3
   },
   "file_extension": ".py",
   "mimetype": "text/x-python",
   "name": "python",
   "nbconvert_exporter": "python",
   "pygments_lexer": "ipython3",
   "version": "3.11.7"
  }
 },
 "nbformat": 4,
 "nbformat_minor": 5
}
