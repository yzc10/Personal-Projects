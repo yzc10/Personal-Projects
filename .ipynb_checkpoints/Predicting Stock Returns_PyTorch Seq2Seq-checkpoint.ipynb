{
 "cells": [
  {
   "cell_type": "markdown",
   "id": "7dcc853b-92a8-452c-a9b9-df2d5e1787c4",
   "metadata": {},
   "source": [
    "# Predicting Stock Returns [PyTorch - Seq2Seq] "
   ]
  },
  {
   "cell_type": "code",
   "execution_count": 31,
   "id": "fcfa4162-cc5e-4df7-896f-40e14bf862fe",
   "metadata": {
    "tags": []
   },
   "outputs": [
    {
     "name": "stdout",
     "output_type": "stream",
     "text": [
      "done\n"
     ]
    }
   ],
   "source": [
    "import datetime as dt\n",
    "import pandas as pd\n",
    "import numpy as np\n",
    "from tqdm import tqdm\n",
    "import time\n",
    "import os\n",
    "import requests\n",
    "import json\n",
    "import glob\n",
    "import random\n",
    "import re\n",
    "from datetime import datetime as dt\n",
    "from sklearn.base import BaseEstimator, TransformerMixin\n",
    "from sklearn.preprocessing import StandardScaler,OneHotEncoder\n",
    "from sklearn.pipeline import Pipeline, FeatureUnion\n",
    "from sklearn.decomposition import PCA\n",
    "from sklearn.kernel_ridge import KernelRidge\n",
    "from sklearn.linear_model import RidgeClassifier\n",
    "from sklearn.svm import SVC\n",
    "from sklearn.mixture import GaussianMixture\n",
    "from sklearn.metrics import precision_score, recall_score, PrecisionRecallDisplay, ConfusionMatrixDisplay, confusion_matrix\n",
    "from sklearn.metrics import silhouette_score\n",
    "from sklearn.model_selection import GridSearchCV, TimeSeriesSplit\n",
    "from sklearn.ensemble import RandomForestClassifier, GradientBoostingClassifier, BaggingClassifier\n",
    "import matplotlib.pyplot as plt\n",
    "import warnings\n",
    "from functools import partial\n",
    "\n",
    "# with warnings.catch_warnings():\n",
    "#     warnings.simplefilter(\"ignore\")\n",
    "#     import yfinance as yf\n",
    "#     from sklearn.cluster import KMeans\n",
    "\n",
    "path = r'{PATH}'\n",
    "os.chdir(path)\n",
    "tqdm = partial(tqdm,position=0,leave=True)\n",
    "print('done')"
   ]
  },
  {
   "cell_type": "markdown",
   "id": "8a639942-1a8f-4d0f-9f10-92f6ae2e872d",
   "metadata": {},
   "source": [
    "## 1. Pre-Processing"
   ]
  },
  {
   "cell_type": "code",
   "execution_count": 5,
   "id": "1c09ec24-bd74-48b9-a040-f38b81016f68",
   "metadata": {
    "tags": []
   },
   "outputs": [
    {
     "name": "stdout",
     "output_type": "stream",
     "text": [
      "done\n"
     ]
    }
   ],
   "source": [
    "sp500 = pd.read_csv('processed_df_v1.csv') # Pre-processed\n",
    "sp500 = sp500.drop(['Year_x','Year_y','grouper1'],axis=1)\n",
    "sp500['Date'] = pd.to_datetime(sp500['Date'])\n",
    "sp500['Target'] = sp500.groupby('Stock')['Target'].shift(-1)\n",
    "sp500['Target_Return'] = sp500.groupby('Stock')['Return'].shift(-1)\n",
    "sp500['Target_Close'] = sp500.groupby('Stock')['Close'].shift(-1)\n",
    "rand_stocks = random.choices(sp500['Stock'].unique(),k=10) # For stock sampling later\n",
    "print('done')"
   ]
  },
  {
   "cell_type": "code",
   "execution_count": 6,
   "id": "71de8dbf-aa04-4df7-82e3-4c8c1d8e4a42",
   "metadata": {
    "tags": []
   },
   "outputs": [
    {
     "name": "stdout",
     "output_type": "stream",
     "text": [
      "done\n"
     ]
    }
   ],
   "source": [
    "# Final Imputation and Troubleshooting for Null & Inf Values\n",
    "inf_cols = ['Stochastic_5','Stochastic_15','RS_5','RS_15']\n",
    "for c in inf_cols:\n",
    "    sp500[c] = sp500[c].replace([np.inf,-np.inf],np.nan)\n",
    "\n",
    "null_cols = ['SMA_Volume_ratio','Stochastic_5','Stochastic_15','Stochastic_%D_5','Stochastic_%D_15','Stochastic_Ratio',\n",
    "'+DM_5','-DM_5','+DM_15','-DM_15','RS_5','RS_15','RSI_5','RSI_ratio']\n",
    "for c in null_cols:\n",
    "    result = sp500.groupby('Stock')[c].apply(lambda x: x.fillna(x.mean()))\n",
    "    sp500[c] = result.droplevel(0)\n",
    "\n",
    "for c in ['Return','Target','Target_Return','Target_Close']:\n",
    "    sp500[c] = sp500.groupby('Stock')[c].ffill().bfill()\n",
    "    \n",
    "num_cols = [c for c in sp500.columns if c not in ['Date','Stock','Year']]\n",
    "for c in num_cols: \n",
    "    if sp500[c].isnull().values.any():\n",
    "        print('null',c)\n",
    "    if np.isinf(sp500[c].values).any():\n",
    "        print('inf',c)\n",
    "print('done')"
   ]
  },
  {
   "cell_type": "code",
   "execution_count": 9,
   "id": "29cff6b6-5ce8-49ac-9aaa-2a277a942378",
   "metadata": {
    "tags": []
   },
   "outputs": [
    {
     "name": "stdout",
     "output_type": "stream",
     "text": [
      "done\n"
     ]
    }
   ],
   "source": [
    "# Create Explanatory Variable DataFrame\n",
    "sp500_var = sp500.copy()\n",
    "sp500_var = sp500_var.drop(['Date','Return','Stock','Target','Target_Return','Target_Close'],axis=1)\n",
    "print('done')"
   ]
  },
  {
   "cell_type": "code",
   "execution_count": 7,
   "id": "5cf3e25a-979f-4f1e-9176-4e4c19b5c87d",
   "metadata": {
    "tags": []
   },
   "outputs": [
    {
     "data": {
      "text/html": [
       "<div>\n",
       "<style scoped>\n",
       "    .dataframe tbody tr th:only-of-type {\n",
       "        vertical-align: middle;\n",
       "    }\n",
       "\n",
       "    .dataframe tbody tr th {\n",
       "        vertical-align: top;\n",
       "    }\n",
       "\n",
       "    .dataframe thead th {\n",
       "        text-align: right;\n",
       "    }\n",
       "</style>\n",
       "<table border=\"1\" class=\"dataframe\">\n",
       "  <thead>\n",
       "    <tr style=\"text-align: right;\">\n",
       "      <th></th>\n",
       "      <th>Date</th>\n",
       "      <th>Open</th>\n",
       "      <th>High</th>\n",
       "      <th>Low</th>\n",
       "      <th>Close</th>\n",
       "      <th>Volume</th>\n",
       "      <th>Dividends</th>\n",
       "      <th>Stock Splits</th>\n",
       "      <th>Stock</th>\n",
       "      <th>Return</th>\n",
       "      <th>...</th>\n",
       "      <th>United States_CA</th>\n",
       "      <th>United States_CP_end</th>\n",
       "      <th>United States_CP_avg</th>\n",
       "      <th>United States_Gov_NetDebt</th>\n",
       "      <th>United States_GDP</th>\n",
       "      <th>United States_UR</th>\n",
       "      <th>Fed_Rate</th>\n",
       "      <th>Target</th>\n",
       "      <th>Target_Return</th>\n",
       "      <th>Target_Close</th>\n",
       "    </tr>\n",
       "  </thead>\n",
       "  <tbody>\n",
       "    <tr>\n",
       "      <th>0</th>\n",
       "      <td>2000-01-03</td>\n",
       "      <td>1.153400</td>\n",
       "      <td>1.206028</td>\n",
       "      <td>1.023149</td>\n",
       "      <td>1.201642</td>\n",
       "      <td>7226398</td>\n",
       "      <td>0.0</td>\n",
       "      <td>0.0</td>\n",
       "      <td>ATVI</td>\n",
       "      <td>-0.030293</td>\n",
       "      <td>...</td>\n",
       "      <td>-3.921</td>\n",
       "      <td>3.427</td>\n",
       "      <td>3.367</td>\n",
       "      <td>-0.537</td>\n",
       "      <td>4.077</td>\n",
       "      <td>3.967</td>\n",
       "      <td>5.45</td>\n",
       "      <td>0.0</td>\n",
       "      <td>-0.030293</td>\n",
       "      <td>1.165241</td>\n",
       "    </tr>\n",
       "    <tr>\n",
       "      <th>1</th>\n",
       "      <td>2000-01-04</td>\n",
       "      <td>1.175329</td>\n",
       "      <td>1.187609</td>\n",
       "      <td>1.041570</td>\n",
       "      <td>1.165241</td>\n",
       "      <td>4262390</td>\n",
       "      <td>0.0</td>\n",
       "      <td>0.0</td>\n",
       "      <td>ATVI</td>\n",
       "      <td>-0.030293</td>\n",
       "      <td>...</td>\n",
       "      <td>-3.921</td>\n",
       "      <td>3.427</td>\n",
       "      <td>3.367</td>\n",
       "      <td>-0.537</td>\n",
       "      <td>4.077</td>\n",
       "      <td>3.967</td>\n",
       "      <td>5.45</td>\n",
       "      <td>1.0</td>\n",
       "      <td>0.003765</td>\n",
       "      <td>1.169628</td>\n",
       "    </tr>\n",
       "    <tr>\n",
       "      <th>2</th>\n",
       "      <td>2000-01-05</td>\n",
       "      <td>1.153401</td>\n",
       "      <td>1.196818</td>\n",
       "      <td>1.151208</td>\n",
       "      <td>1.169628</td>\n",
       "      <td>3389998</td>\n",
       "      <td>0.0</td>\n",
       "      <td>0.0</td>\n",
       "      <td>ATVI</td>\n",
       "      <td>0.003765</td>\n",
       "      <td>...</td>\n",
       "      <td>-3.921</td>\n",
       "      <td>3.427</td>\n",
       "      <td>3.367</td>\n",
       "      <td>-0.537</td>\n",
       "      <td>4.077</td>\n",
       "      <td>3.967</td>\n",
       "      <td>5.45</td>\n",
       "      <td>0.0</td>\n",
       "      <td>-0.019498</td>\n",
       "      <td>1.146823</td>\n",
       "    </tr>\n",
       "    <tr>\n",
       "      <th>3</th>\n",
       "      <td>2000-01-06</td>\n",
       "      <td>1.162173</td>\n",
       "      <td>1.169628</td>\n",
       "      <td>1.137612</td>\n",
       "      <td>1.146823</td>\n",
       "      <td>2429998</td>\n",
       "      <td>0.0</td>\n",
       "      <td>0.0</td>\n",
       "      <td>ATVI</td>\n",
       "      <td>-0.019498</td>\n",
       "      <td>...</td>\n",
       "      <td>-3.921</td>\n",
       "      <td>3.427</td>\n",
       "      <td>3.367</td>\n",
       "      <td>-0.537</td>\n",
       "      <td>4.077</td>\n",
       "      <td>3.967</td>\n",
       "      <td>5.45</td>\n",
       "      <td>1.0</td>\n",
       "      <td>0.027915</td>\n",
       "      <td>1.178837</td>\n",
       "    </tr>\n",
       "    <tr>\n",
       "      <th>4</th>\n",
       "      <td>2000-01-07</td>\n",
       "      <td>1.162172</td>\n",
       "      <td>1.187609</td>\n",
       "      <td>1.133228</td>\n",
       "      <td>1.178837</td>\n",
       "      <td>15549590</td>\n",
       "      <td>0.0</td>\n",
       "      <td>0.0</td>\n",
       "      <td>ATVI</td>\n",
       "      <td>0.027915</td>\n",
       "      <td>...</td>\n",
       "      <td>-3.921</td>\n",
       "      <td>3.427</td>\n",
       "      <td>3.367</td>\n",
       "      <td>-0.537</td>\n",
       "      <td>4.077</td>\n",
       "      <td>3.967</td>\n",
       "      <td>5.45</td>\n",
       "      <td>1.0</td>\n",
       "      <td>0.050223</td>\n",
       "      <td>1.238042</td>\n",
       "    </tr>\n",
       "  </tbody>\n",
       "</table>\n",
       "<p>5 rows × 93 columns</p>\n",
       "</div>"
      ],
      "text/plain": [
       "        Date      Open      High       Low     Close    Volume  Dividends  \\\n",
       "0 2000-01-03  1.153400  1.206028  1.023149  1.201642   7226398        0.0   \n",
       "1 2000-01-04  1.175329  1.187609  1.041570  1.165241   4262390        0.0   \n",
       "2 2000-01-05  1.153401  1.196818  1.151208  1.169628   3389998        0.0   \n",
       "3 2000-01-06  1.162173  1.169628  1.137612  1.146823   2429998        0.0   \n",
       "4 2000-01-07  1.162172  1.187609  1.133228  1.178837  15549590        0.0   \n",
       "\n",
       "   Stock Splits Stock    Return  ...  United States_CA  United States_CP_end  \\\n",
       "0           0.0  ATVI -0.030293  ...            -3.921                 3.427   \n",
       "1           0.0  ATVI -0.030293  ...            -3.921                 3.427   \n",
       "2           0.0  ATVI  0.003765  ...            -3.921                 3.427   \n",
       "3           0.0  ATVI -0.019498  ...            -3.921                 3.427   \n",
       "4           0.0  ATVI  0.027915  ...            -3.921                 3.427   \n",
       "\n",
       "   United States_CP_avg  United States_Gov_NetDebt  United States_GDP  \\\n",
       "0                 3.367                     -0.537              4.077   \n",
       "1                 3.367                     -0.537              4.077   \n",
       "2                 3.367                     -0.537              4.077   \n",
       "3                 3.367                     -0.537              4.077   \n",
       "4                 3.367                     -0.537              4.077   \n",
       "\n",
       "   United States_UR  Fed_Rate  Target  Target_Return  Target_Close  \n",
       "0             3.967      5.45     0.0      -0.030293      1.165241  \n",
       "1             3.967      5.45     1.0       0.003765      1.169628  \n",
       "2             3.967      5.45     0.0      -0.019498      1.146823  \n",
       "3             3.967      5.45     1.0       0.027915      1.178837  \n",
       "4             3.967      5.45     1.0       0.050223      1.238042  \n",
       "\n",
       "[5 rows x 93 columns]"
      ]
     },
     "execution_count": 7,
     "metadata": {},
     "output_type": "execute_result"
    }
   ],
   "source": [
    "sp500.head()"
   ]
  },
  {
   "cell_type": "markdown",
   "id": "91d4a5c3-f12c-43d6-b66e-0fabd1de49e2",
   "metadata": {},
   "source": [
    "## 2. Data Pipelines"
   ]
  },
  {
   "cell_type": "markdown",
   "id": "a79d3a8b",
   "metadata": {},
   "source": [
    "### 2.1 Preparations (PCA, Data Splits)"
   ]
  },
  {
   "cell_type": "code",
   "execution_count": 17,
   "id": "c7227663-87ce-4a1f-b406-98f8f2fa3177",
   "metadata": {
    "tags": []
   },
   "outputs": [
    {
     "data": {
      "image/png": "[encoded data removed]",
      "text/plain": [
       "<Figure size 500x400 with 1 Axes>"
      ]
     },
     "metadata": {},
     "output_type": "display_data"
    }
   ],
   "source": [
    "exp_var = pd.DataFrame(columns=['n','var'])\n",
    "for i in tqdm(range(1,41)):\n",
    "    pca = PCA(n_components=i)\n",
    "    pca.fit(sp500_var)\n",
    "    exp_var.loc[i-1,'n'] = i\n",
    "    exp_var.loc[i-1,'var'] = np.sum(list(pca.explained_variance_ratio_))\n",
    "exp_var.to_csv('pca_explained_variance_v1.csv',index=False)\n",
    "\n",
    "exp_var = pd.read_csv('pca_explained_variance_v1.csv')\n",
    "plt.figure(figsize=(5,4))\n",
    "ax = plt.axes()\n",
    "ax.set_facecolor('0.93')\n",
    "plt.grid(color='w',linestyle=\"--\",alpha=0.5,zorder=2)\n",
    "plt.plot(exp_var['n'],exp_var['var'],linewidth=1)\n",
    "plt.title('Explained Variance against Number of Components',y=1.05)\n",
    "plt.xlabel('n_components',y=1.05)\n",
    "plt.ylabel('explained variance')\n",
    "plt.show() # Choose 30"
   ]
  },
  {
   "cell_type": "code",
   "execution_count": 6,
   "id": "4898d3ee-bf70-4c6f-a8e7-490453bc13ea",
   "metadata": {},
   "outputs": [],
   "source": [
    "stock_list = sp500['Stock'].unique()\n",
    "date_range = sp500['Date'].unique().to_numpy()\n",
    "\n",
    "def generate_splits(df,stock_list,date_range,constant_range=False):\n",
    "    n_splits = 3 # Hard-coded for now\n",
    "    tot_size = len(date_range)\n",
    "    each_size = tot_size//5\n",
    "    train_dates_1 = date_range[:2*each_size]\n",
    "    idx_splits = {}\n",
    "    for i in range(n_splits):\n",
    "        if i == 0:\n",
    "            train_dates = train_dates_1\n",
    "            test_dates = date_range[(i+2)*each_size:(i+3)*each_size]\n",
    "        elif i == n_splits-1:\n",
    "            train_dates = np.append(train_dates_1,date_range[(i+1)*each_size:(i+2)*each_size])\n",
    "            test_dates = date_range[(i+2)*each_size:]\n",
    "        else:\n",
    "            train_dates = np.append(train_dates_1,date_range[(i+1)*each_size:(i+2)*each_size])\n",
    "            test_dates = date_range[(i+2)*each_size:(i+3)*each_size]\n",
    "        idx_splits[i] = [[],[]]\n",
    "        if constant_range == False:\n",
    "            for s in stock_list:\n",
    "                temp = df.loc[df['Stock']==s,'Date'].reset_index()\n",
    "                temp = temp.set_index('Date')\n",
    "                s_dates = temp.index.values\n",
    "                s_train_dates = set(train_dates).intersection(set(s_dates))\n",
    "                s_test_dates = set(test_dates).intersection(set(s_dates))\n",
    "                if len(s_train_dates) > 0:\n",
    "                    train_idx = temp.loc[list(s_train_dates),'index'].values\n",
    "                    idx_splits[i][0].extend(train_idx)\n",
    "                if len(s_test_dates) > 0:\n",
    "                    test_idx = temp.loc[list(s_test_dates),'index'].values\n",
    "                    idx_splits[i][1].extend(test_idx)\n",
    "        else: # Equivalent to a simple Time Series Split\n",
    "            for s in stock_list: \n",
    "                temp = df.loc[df['Stock']==s,'Date'].reset_index()\n",
    "                temp = temp.set_index('Date')\n",
    "                train_idx = temp.loc[list(train_dates),'index'].values\n",
    "                idx_splits[i][0].extend(train_idx)\n",
    "                test_idx = temp.loc[list(test_dates),'index'].values\n",
    "                idx_splits[i][1].extend(test_idx)\n",
    "    return idx_splits\n",
    "# 3 splits. Each split: split (3) # x train/test (2) x idx (allocated idx across all stocks)"
   ]
  },
  {
   "cell_type": "code",
   "execution_count": null,
   "id": "8bc9df58-b2e5-40b9-9010-c666624fa60f",
   "metadata": {},
   "outputs": [],
   "source": [
    "idx_splits = generate_splits(sp500,stock_list,date_range)"
   ]
  },
  {
   "cell_type": "code",
   "execution_count": null,
   "id": "ca4101ba-a95a-49ef-b831-d10e66d07eb8",
   "metadata": {},
   "outputs": [],
   "source": [
    "# Save idx_splits: for efficiency\n",
    "idx_splits1 = idx_splits\n",
    "for a in tqdm(range(len(idx_splits))):\n",
    "    for b in range(len(idx_splits[a])):\n",
    "        for c in range(len(idx_splits[a][b])):\n",
    "            idx_splits1[a][b][c] = str(idx_splits[a][b][c])\n",
    "with open('idx_splits.json','w') as fp:\n",
    "    json.dump(idx_splits1,fp)"
   ]
  },
  {
   "cell_type": "code",
   "execution_count": null,
   "id": "738c8921-988f-4607-ad33-9e6ba2edf3c1",
   "metadata": {},
   "outputs": [],
   "source": [
    "# Re-load idx_splits: for efficiency\n",
    "with open('idx_splits.json') as json_file:\n",
    "    idx_splits = json.load(json_file)\n",
    "for a in tqdm(range(len(idx_splits))):\n",
    "    for b in range(len(idx_splits[str(a)])):\n",
    "        for c in range(len(idx_splits[str(a)][b])):\n",
    "            idx_splits[str(a)][b][c] = int(idx_splits[str(a)][b][c])\n",
    "idx_splits = {int(k):v for k,v in idx_splits.items()}"
   ]
  },
  {
   "cell_type": "code",
   "execution_count": 11,
   "id": "85a24a67-2b73-4503-a36a-5d365e6af50a",
   "metadata": {},
   "outputs": [
    {
     "name": "stdout",
     "output_type": "stream",
     "text": [
      "done\n"
     ]
    }
   ],
   "source": [
    "# Full Dataset (*Run this)\n",
    "class DataFrameSelector(BaseEstimator,TransformerMixin):\n",
    "    def __init__(self,attribute_names):\n",
    "        self.attribute_names = attribute_names\n",
    "    def fit(self,X,y=None):\n",
    "        return self\n",
    "    def transform(self,X):\n",
    "        return X[self.attribute_names].to_numpy()\n",
    "cat_vars = ['Stock']\n",
    "sp500_var['Stock'] = sp500['Stock']\n",
    "num_vars = list(set(sp500_var.columns) - set(cat_vars))\n",
    "print('done')"
   ]
  },
  {
   "cell_type": "markdown",
   "id": "7a4d0a41",
   "metadata": {},
   "source": [
    "### 2.2 Pipeline for Full Dataset"
   ]
  },
  {
   "cell_type": "code",
   "execution_count": null,
   "id": "7fd71635-bfd5-4771-b1de-35eea069831e",
   "metadata": {},
   "outputs": [],
   "source": [
    "# Pipeline for Full Dataset\n",
    "num_pipeline = Pipeline([\n",
    "    ('selector',DataFrameSelector(num_vars)),\n",
    "    ('scaler',StandardScaler()),\n",
    "])\n",
    "cat_pipeline = Pipeline([\n",
    "    ('selector',DataFrameSelector(cat_vars)),\n",
    "    ('ohe',OneHotEncoder()),\n",
    "])\n",
    "full_pipeline = FeatureUnion(transformer_list=[\n",
    "    ('num_pipeline',num_pipeline),\n",
    "    ('cat_pipeline',cat_pipeline),\n",
    "])\n",
    "X_processed = full_pipeline.fit_transform(sp500_var)\n",
    "print('done')"
   ]
  },
  {
   "cell_type": "markdown",
   "id": "f123764d-620e-4955-add1-63cfb2201c67",
   "metadata": {},
   "source": [
    "### 2.3 Pipeline for Sampled Dataset"
   ]
  },
  {
   "cell_type": "code",
   "execution_count": null,
   "id": "bceac25a-3255-46cd-b4a8-05a468155e54",
   "metadata": {},
   "outputs": [],
   "source": [
    "# Sample Stocks for Smaller Dataset\n",
    "possible_stocks = []\n",
    "aapl_dates = set(sp500.loc[sp500['Stock']=='AAPL','Date'].to_numpy())\n",
    "for s in tqdm(stock_list):\n",
    "    if set(sp500.loc[sp500['Stock']==s,'Date'].to_numpy()) == aapl_dates:\n",
    "        possible_stocks.append(s)\n",
    "print(possible_stocks)"
   ]
  },
  {
   "cell_type": "code",
   "execution_count": 12,
   "id": "2b2b71f8-b136-462b-a5cf-3bf716cf57e9",
   "metadata": {},
   "outputs": [
    {
     "name": "stdout",
     "output_type": "stream",
     "text": [
      "done\n"
     ]
    }
   ],
   "source": [
    "# Pipeline for Sampled Dataset\n",
    "possible_stocks = ['AAPL','CCI', 'USB', 'ADI', 'PNW', 'QCOM']\n",
    "sp500_sampled = sp500.loc[sp500['Stock'].isin(possible_stocks)].reset_index(drop=True)\n",
    "sp500_pca = sp500_sampled.drop(['Target','Target_Return','Target_Close'],axis=1)\n",
    "\n",
    "num_pipeline1 = Pipeline([\n",
    "    ('selector',DataFrameSelector(num_vars)),\n",
    "    ('scaler',StandardScaler()),\n",
    "    ('pca',PCA(n_components=30))\n",
    "])\n",
    "cat_pipeline1 = Pipeline([\n",
    "    ('selector',DataFrameSelector(cat_vars)),\n",
    "    ('ohe',OneHotEncoder()),\n",
    "])\n",
    "full_pipeline1 = FeatureUnion(transformer_list=[\n",
    "    ('num_pipeline',num_pipeline1),\n",
    "    ('cat_pipeline',cat_pipeline1),\n",
    "])\n",
    "X1 = full_pipeline1.fit_transform(sp500_pca).toarray()\n",
    "print('done')\n",
    "\n",
    "# Generate new index splits for smaller dataset\n",
    "# aapl_date_range = sp500_pca['Date'].unique()\n",
    "# idx_splits2 = generate_splits(sp500_pca,possible_stocks,aapl_date_range,True)"
   ]
  },
  {
   "cell_type": "markdown",
   "id": "799b8d90-1b35-4e33-b018-f93e5056da12",
   "metadata": {},
   "source": [
    "## 3. Seq2Seq with PyTorch"
   ]
  },
  {
   "cell_type": "code",
   "execution_count": 2,
   "id": "2aaad62b-4b09-4d35-a497-8da69becc8b0",
   "metadata": {
    "tags": []
   },
   "outputs": [],
   "source": [
    "## Ow notes\n",
    "# Attention (init) - why initial layer input_size = 2 * hidden_size? \n",
    "    # -> encoder hidden state ht & current decoder hidden state Z\n",
    "# Attention (forward) - why need to stack decoder hidden states?\n",
    "    # Same reason as above ^\n",
    "    # i.e. each line of input: decoder hidden state and 1 encoder output\n",
    "\n",
    "# NLP example: \n",
    "    # train_data = pair x len(pair)\n",
    "    # each pair = 1 'batch'\n",
    "    # train_data = TensorDataSet(input,target)\n",
    "    # train_dataloader\n",
    "    # for each batch (i.e. pair): train & optimize\n",
    "# Forecasting example:\n",
    "    # train_data: (chronological order x total num of time series) x time steps x number of features"
   ]
  },
  {
   "cell_type": "code",
   "execution_count": 22,
   "id": "a0ac9f96-edcb-402e-a778-b1dd2acaae24",
   "metadata": {
    "tags": []
   },
   "outputs": [
    {
     "name": "stdout",
     "output_type": "stream",
     "text": [
      "cuda\n",
      "done\n"
     ]
    }
   ],
   "source": [
    "import torch.nn as nn\n",
    "import torch\n",
    "import math\n",
    "from copy import deepcopy\n",
    "\n",
    "def inverse_sigmoid_decay(decay):\n",
    "    def compute(idx):\n",
    "        return decay/(decay + math.exp(idx/decay))\n",
    "    return compute\n",
    "\n",
    "calc_teacher_force_prob = inverse_sigmoid_decay(10)\n",
    "device = 'cuda' if torch.cuda.is_available() else 'cpu'\n",
    "print(device)\n",
    "print('done')"
   ]
  },
  {
   "cell_type": "code",
   "execution_count": 15,
   "id": "d6a91fc3-f649-408d-9578-499bdcac1e60",
   "metadata": {
    "tags": []
   },
   "outputs": [],
   "source": [
    "class DataGenerator_S2S():\n",
    "    def __init__(self,X,input_seq_len,output_seq_len,k=6):\n",
    "        self.X = X\n",
    "        self.k = k\n",
    "        self.input_seq_len = input_seq_len\n",
    "        self.output_seq_len = output_seq_len\n",
    "    \n",
    "    def generate_SampledData(self,y1_df,cat_pipeline): # pre-tensor       \n",
    "        X1_cols = list(np.arange(30))\n",
    "        X1_cols.extend(cat_pipeline['ohe'].get_feature_names_out())\n",
    "        X1_df = pd.DataFrame(self.X,columns=X1_cols)\n",
    "        X1_few = []\n",
    "        y1_few = []\n",
    "        for s in tqdm(possible_stocks):\n",
    "            X1_few.append(X1_df.loc[X1_df[f'x0_{s}']==1].to_numpy())\n",
    "            y1_few.append(y1_df.loc[y1_df['Stock']==s,'Target'].to_numpy())\n",
    "        X1_few = np.asarray(X1_few) #(6, 5995, 36)\n",
    "        y1_few = np.asarray(y1_few)\n",
    "        return X1_few,y1_few\n",
    "\n",
    "    def generate_splits(self,X): # assume constant range.\n",
    "        # Current: stock x timesteps x features\n",
    "        # Outcome: split # x train/val x dataset type x (seq by time x stock) x timesteps x features\n",
    "            # Does this result in us training the model with 'future data'?\n",
    "        k = self.k\n",
    "        batch_size = X.shape[1]//k\n",
    "        idx = {'train':[],'val':[],'test':[]}\n",
    "        idx['test'].append(list(range(batch_size*(k-1),X.shape[1])))\n",
    "        for i in range(k-3):\n",
    "            idx['train'].append(list(range(i*batch_size,(i*batch_size) + batch_size)))\n",
    "            idx['val'].append(list(range((i*batch_size) + batch_size - 1,(i*batch_size) + (2*batch_size))))\n",
    "        # (train/val x k-3 batches) + test\n",
    "        self.idx_splits = idx\n",
    "                            \n",
    "    def generate_seq(self,X,y):\n",
    "        # X: stocks x timesteps x features\n",
    "        # y: stocks x timesteps\n",
    "        X = torch.tensor(X,dtype=torch.float).to(device)\n",
    "        y = torch.tensor(y,dtype=torch.float).to(device)\n",
    "        enc_inputs, dec_inputs, dec_targets = [], [], []\n",
    "        input_seq_len = self.input_seq_len\n",
    "        output_seq_len = self.output_seq_len\n",
    "        for t in range(X.shape[1] - input_seq_len - output_seq_len):\n",
    "            enc_inputs_at_t = deepcopy(X[:,t:t + input_seq_len,:])\n",
    "            dec_inputs_at_t = deepcopy(X[:,t + input_seq_len-1:t + input_seq_len + output_seq_len,:])\n",
    "            dec_targets_at_t = deepcopy(y[:,t + input_seq_len-1:t + input_seq_len + output_seq_len])\n",
    "            enc_inputs.append(enc_inputs_at_t)\n",
    "            dec_inputs.append(dec_inputs_at_t)\n",
    "            dec_targets.append(dec_targets_at_t)\n",
    "        enc_inputs = torch.stack(enc_inputs); dec_inputs = torch.stack(dec_inputs)\n",
    "        dec_targets = torch.stack(dec_targets)\n",
    "        enc_inputs = enc_inputs.reshape(-1,enc_inputs.shape[2],enc_inputs.shape[3])\n",
    "        dec_inputs = dec_inputs.reshape(-1,dec_inputs.shape[2],dec_inputs.shape[3])\n",
    "        dec_targets = dec_targets.reshape(-1,dec_targets.shape[2],1)\n",
    "        return {'enc_inputs':enc_inputs,'dec_inputs':dec_inputs,'dec_targets':dec_targets}\n",
    "                            \n",
    "    def generate_trainval(self,X,y):\n",
    "        # X: the whole X from generate_SampledData\n",
    "        idx_splits = self.idx_splits\n",
    "        k = self.k\n",
    "        i = 0\n",
    "        while i <= k-3:\n",
    "            train_idx = idx_splits['train'][i]\n",
    "            val_idx = idx_splits['val'][i]\n",
    "            train_data = self.generate_seq(X[:,train_idx,:],y[:,train_idx])\n",
    "            val_data = self.generate_seq(X[:,val_idx,:],y[:,val_idx])\n",
    "            i += 1\n",
    "            yield train_data, val_data "
   ]
  },
  {
   "cell_type": "code",
   "execution_count": 16,
   "id": "389ec87c-4174-40bc-8d58-c0fb52cf7d6e",
   "metadata": {
    "tags": []
   },
   "outputs": [],
   "source": [
    "input_seq_len = 150 #reference to Git sample\n",
    "output_seq_len = 30 #reference to Git sample\n",
    "target_size = 1\n",
    "encoder_input_size = 36\n",
    "hidden_size = 32\n",
    "decoder_input_size = 36\n",
    "lr = 0.00005\n",
    "# don't need batch_size for now"
   ]
  },
  {
   "cell_type": "code",
   "execution_count": 17,
   "id": "f5683848-de62-4354-b3a9-b1796851d1d6",
   "metadata": {
    "tags": []
   },
   "outputs": [],
   "source": [
    "# inputs: 'batch'(1) x time steps x num features\n",
    "# output: 'batch'(1) x time steps x num targets (1)\n",
    "# No teacher forcing for now - because we are currently using pca features, without a specific column position for target returns\n",
    "class Encoder(nn.Module):\n",
    "    def __init__(self,encoder_input_size,hidden_size):\n",
    "        super().__init__()\n",
    "        self.rnn = nn.RNN(encoder_input_size,hidden_size) # input size: no. of features at time t\n",
    "    \n",
    "    def forward(self,encoder_inputs):\n",
    "        outputs,hidden = self.rnn(encoder_inputs) # Pytorch handles roller behind-the-scenes\n",
    "        return outputs,hidden\n",
    "    \n",
    "class Decoder(nn.Module):\n",
    "    def __init__(self,decoder_input_size,hidden_size,device):\n",
    "        super().__init__()\n",
    "        self.device = device\n",
    "        self.rnn = nn.RNN(decoder_input_size,hidden_size) # input size: same as encoder_input; also the no. of features at time t\n",
    "        self.out = nn.Linear(hidden_size,1)\n",
    "        \n",
    "    def forward(self,decoder_inputs,encoder_outputs,hidden,targets,teacher_force_probability):\n",
    "        decoder_sequence_length, _ = decoder_inputs.shape\n",
    "        # outputs = [None for _ in range(decoder_sequence_length)]\n",
    "        outputs = torch.zeros(decoder_sequence_length,target_size).to(self.device)\n",
    "        input_at_t = decoder_inputs[0,:].reshape(1,decoder_inputs.shape[1])\n",
    "        for t in range(decoder_sequence_length):\n",
    "            output,hidden = self.rnn(input_at_t,hidden)\n",
    "            outputs[t,:] = self.out(output)\n",
    "            # teacher_force = random() < teacher_force_probability\n",
    "            if t < decoder_sequence_length - 1:\n",
    "                input_at_t = decoder_inputs[t+1,:].clone().reshape(1,decoder_inputs.shape[1]) #input includes a column with date t target (predicting t+1)\n",
    "            # if not teacher_force:\n",
    "            #     input_at_t[:,0] = outputs[t+1,:] #date t target column as first column\n",
    "        return outputs\n",
    "\n",
    "class Seq2Seq(nn.Module):\n",
    "    def __init__(self,encoder,decoder,lr):\n",
    "        super().__init__()\n",
    "        self.encoder = encoder\n",
    "        self.decoder = decoder\n",
    "        self.optimizer = torch.optim.Adam(self.parameters(),lr)\n",
    "        self.loss_function = nn.L1Loss()\n",
    "        \n",
    "    def forward(self, encoder_inputs, decoder_inputs, targets, teacher_force_probability=None):\n",
    "        encoder_outputs, hidden = self.encoder(encoder_inputs)\n",
    "        outputs = self.decoder(decoder_inputs,encoder_outputs,hidden,targets,teacher_force_probability)\n",
    "        return outputs\n",
    "    \n",
    "    def compute_loss(self,outputs,targets):\n",
    "        loss = self.loss_function(outputs,targets)\n",
    "        return loss\n",
    "    \n",
    "    def optimize(self,outputs,targets):\n",
    "        self.optimizer.zero_grad()\n",
    "        loss = self.compute_loss(outputs,targets)\n",
    "        loss.backward()\n",
    "        self.optimizer.step()\n",
    "        return loss.item()"
   ]
  },
  {
   "cell_type": "code",
   "execution_count": 18,
   "id": "7dcd5a20-4b2a-425f-acf2-3a8c1d9f0755",
   "metadata": {},
   "outputs": [],
   "source": [
    "def train(model,train_data,teacher_force_prob):\n",
    "    model.train()\n",
    "    epoch_loss = 0\n",
    "    for i in range(train_data['enc_inputs'].shape[0]):\n",
    "        encoder_inputs = train_data['enc_inputs'][i,:,:]\n",
    "        decoder_inputs = train_data['dec_inputs'][i,:,:]\n",
    "        decoder_targets = train_data['dec_targets'][i,:,:]\n",
    "        # print(encoder_inputs.shape,decoder_inputs.shape,decoder_targets.shape)\n",
    "        # torch.Size([6, 150, 36]) torch.Size([6, 31, 36]) torch.Size([6, 31])\n",
    "        output = model(encoder_inputs, decoder_inputs, decoder_targets, teacher_force_prob)\n",
    "        loss = model.optimize(output,decoder_targets)\n",
    "        epoch_loss += loss\n",
    "    return epoch_loss / train_data['enc_inputs'].shape[0]\n",
    "\n",
    "def evaluate(model,val_data):\n",
    "    model.eval()\n",
    "    epoch_loss = 0\n",
    "    with torch.no_grad():\n",
    "        for i in range(val_data['enc_inputs'].shape[0]):\n",
    "            encoder_inputs = val_data['enc_inputs'][i,:,:]\n",
    "            decoder_inputs = val_data['dec_inputs'][i,:,:]\n",
    "            decoder_targets = val_data['dec_targets'][i,:,:]\n",
    "            output = model(encoder_inputs, decoder_inputs, decoder_targets, teacher_force_prob)\n",
    "            loss = model.compute_loss(output,decoder_targets)\n",
    "            epoch_loss += loss\n",
    "    return epoch_loss / val_data['enc_inputs'].shape[0]"
   ]
  },
  {
   "cell_type": "code",
   "execution_count": null,
   "id": "535a12c6-84fd-4a6c-a125-e69951c7850f",
   "metadata": {},
   "outputs": [],
   "source": [
    "num_epochs = 50\n",
    "best_val,best_model = float('inf'),None\n",
    "training_results = pd.DataFrame(columns=['Split','Epoch','Training Loss','Validation Loss','Teacher Forcing Prob','New Best'])\n",
    "data_generator = DataGenerator_S2S(X1,input_seq_len,output_seq_len)\n",
    "X_sampled, y_sampled = data_generator.generate_SampledData(sp500_sampled,cat_pipeline1)\n",
    "data_generator.generate_splits(X_sampled)\n",
    "\n",
    "encoder = Encoder(encoder_input_size,hidden_size)\n",
    "decoder = Decoder(decoder_input_size,hidden_size,device)\n",
    "seq2seq = Seq2Seq(encoder,decoder,lr).to(device)\n",
    "\n",
    "split = 1\n",
    "for train_data, val_data in data_generator.generate_trainval(X_sampled,y_sampled):\n",
    "    for epoch in tqdm(range(num_epochs)):\n",
    "        teacher_force_prob = calc_teacher_force_prob(epoch)\n",
    "        train_loss = train(seq2seq,train_data,teacher_force_prob)\n",
    "        val_loss = evaluate(seq2seq,val_data)\n",
    "        new_best_val = False\n",
    "        if val_loss < best_val:\n",
    "            new_best_val = True\n",
    "            best_val = val_loss\n",
    "            best_model = deepcopy(seq2seq)\n",
    "        # print(training_results, split, epoch, train_loss,val_loss)\n",
    "        training_results.loc[split*epoch] = [split,epoch+1,train_loss,val_loss.cpu(),teacher_force_prob,new_best_val]\n",
    "        print(f'Epoch{epoch+1}: Training loss = {train_loss:.5f} ',\n",
    "              f'Validation loss = {val_loss:.5f}')\n",
    "    print(f'Split {split} done. Best validation loss = {best_val:.2f}\\n')\n",
    "    split += 1\n",
    "training_results.to_csv('seq2seq_results_v0.csv',index=False)"
   ]
  },
  {
   "cell_type": "markdown",
   "id": "6a684c1f",
   "metadata": {},
   "source": [
    "### WIP - Not Debugged"
   ]
  },
  {
   "cell_type": "code",
   "execution_count": null,
   "id": "91770eaf-3d8f-4c05-8721-3e66aa0156e6",
   "metadata": {},
   "outputs": [],
   "source": [
    "# With Attention\n",
    "\n",
    "def stack_decoder_hidden(current_decoder_hidden,n):\n",
    "    stacked_hidden = tuple([current_decoder_hidden for i in range(n)])\n",
    "    return torch.cat(stacked_hidden)\n",
    "\n",
    "class Attention(nn.Module):\n",
    "    def __init__(self,encoder_input_size,hidden_size):\n",
    "        super().__init__()\n",
    "        self.initial_layer = nn.Linear(2*hidden_size,hidden_size)\n",
    "        sef.final_layer - nn.Linear(hidden_size,1)\n",
    "    \n",
    "    def forward(self,current_decoder_hidden,encoder_outputs):\n",
    "        # decoder_hidden_stack = stack_decoder_hidden(current_decoder_hidden,len(encoder_outputs))\n",
    "        decoder_hidden_stack = current_decoder_hidden.unsqueeze(0).repeat(encoder_outputs.shape[0], 1)\n",
    "        energy = self.initial_layer(torch.cat((encoder_outputs,decoder_hidden_stack),1))\n",
    "        energy = torch.tanh(energy)\n",
    "        energy = self.final_layer(energy).squeeze(1)\n",
    "        # energy = torch.softmax(energy) \n",
    "        weights = torch.softmax(energy)\n",
    "        attn = torch.mm(weights,encoder_outputs)\n",
    "        return attn\n",
    "    \n",
    "class Decoder_withAttention(nn.Module):\n",
    "    def __init__(self,decoder_input_size,hidden_size):\n",
    "        super().__init__()\n",
    "        self.attention_module = Attention(hidden_size)\n",
    "        self.rnn = nn.RNN(1 + hidden_size,hidden_size)\n",
    "        self.out = nn.Linear(hidden_size,1)\n",
    "        \n",
    "    def forward(self,decoder_inputs,encoder_outputs,hidden,targets,teacher_force_probability)\n",
    "        decoder_sequence_length = len(targets)\n",
    "        outputs = [None for _ in range(decoder_sequence_length)] #?\n",
    "        input_at_t = decoder_inputs[0] #?\n",
    "        for t in tqdm(range(decoder_sequence_length)):\n",
    "            attention_vector = self.attention_module(hidden,encoder_outputs)\n",
    "            cat_input = torch.cat((input_at_t, attention_vector))\n",
    "            output,hidden = self.rnn(cat_input,hidden)\n",
    "            outputs[t] = self.out(output)\n",
    "            teacher_froce = random() < teacher_force_probability\n",
    "            input_at_t = decoder_inputs[t+1] if teacher_force \n",
    "                else outputs[t] + decoder_inputs[t+1][1:]\n",
    "        return outputs"
   ]
  },
  {
   "cell_type": "markdown",
   "id": "8658c89b-fc8a-4586-84a6-8bf6dd8d3b77",
   "metadata": {},
   "source": []
  }
 ],
 "metadata": {
  "kernelspec": {
   "display_name": "torch-env",
   "language": "python",
   "name": "my-conda-env-kernel"
  },
  "language_info": {
   "codemirror_mode": {
    "name": "ipython",
    "version": 3
   },
   "file_extension": ".py",
   "mimetype": "text/x-python",
   "name": "python",
   "nbconvert_exporter": "python",
   "pygments_lexer": "ipython3",
   "version": "3.11.7"
  }
 },
 "nbformat": 4,
 "nbformat_minor": 5
}
